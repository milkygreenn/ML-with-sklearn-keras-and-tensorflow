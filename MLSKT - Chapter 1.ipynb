{
 "cells": [
  {
   "cell_type": "markdown",
   "metadata": {},
   "source": [
    "# Hands-on Machine Learning with Scikit-Learn, Keras, and TensorFlow\n",
    "## 2nd Edition Reading Note Chapter 1\n",
    "#### Lifan Zhang Jun 3, 2019\n",
    "#### Book source: Safari O'Reilly \n"
   ]
  },
  {
   "cell_type": "markdown",
   "metadata": {},
   "source": [
    "## Use Cases of ML\n",
    "- When traditional solution is too complex\n",
    "- When no known solution exists for the problem\n",
    "\n",
    "## Benefits of ML\n",
    "- Learning is automated when the pattern of incoming data has changed\n",
    "- ML can help human learning. Eg. Once a spam model is well learnt, it can provide predictors/features of spam emails and enveil unsuspected correlation or new trends. \n",
    "- ML helps discovering patterns that were not immediately apparent (data mining)"
   ]
  },
  {
   "cell_type": "markdown",
   "metadata": {},
   "source": [
    "## Machine Learning Systems \n",
    "Examples that the system uses to learn are called the training set. <br>\n",
    "Each training sample is called a training instance (or sample).\n",
    "<br>\n",
    "- **Supervised v.s. Unsupervised**\n",
    "    - supervised: training data has labels or target numeric values\n",
    "    - unsupervised: training data is unlabeled\n",
    "    - semisupervised learning: a lot of training data is unlabeled and a little bit is labeled\n",
    "    - reinforcement learning the agent observe the environment and get reward in return to learn the best strategy given a specific environment\n",
    "- **Online v.s. Batch**\n",
    "    - batch/offline: incapable of learning incrementally; usually offline. If you want a new version of the system about new data, you need to train a new version of the system from scratch on the full dataset (new + old)\n",
    "    - online: feed new data instances sequentially, either individually or by small groups called mini-batches so that each learning step is fast and cheap and the system can learn about new data on the fly, as it arrives. The rate where the system adapts to new data is the learning rate (adjustable) Faster learning will be more affected by noise and outliers in the new data. \n",
    "   \n",
    "- **Instance-based v.s. Model-based** **<font color = red> DO NOT UNDERSTAND </font>**\n",
    "    - instance-based: system learns the labeled samples and generalizes the pattern to new cases by comparing new cases to the learnt examples using a similarity measure. <font color = red> compare ONE test sample with ONE of the training samples for similarity ??? </font>\n",
    "    - model-based: system generalizes the pattern of the labeled examples to a model and apply the model to test samples for prediction. \n",
    "\n",
    "\n",
    "## Performance Measure\n",
    "- Utility function: how good the model is\n",
    "- Cost function: how bad the model is\n",
    "\n",
    "## Challenges of Machine Learning\n",
    "- Insufficient quantity of training data\n",
    "- Nonrepresentative training data\n",
    "    - sampling noise if the sample is too small\n",
    "    - sampling bias can occur if the sampling method is flawed even though the sample size is large\n",
    "    - overfitting \n",
    "        - occurs when apply complex model to noise or small training data\n",
    "        - solution: \n",
    "            - simplify model by selecting fewer parameters (or regularization)\n",
    "            - gather more training data\n",
    "            - reduce noise in training data (by fixing data errors and removing outliers)\n",
    "    - underfitting \n",
    "        - occurs when model is too simple to learn the underlying structure of the data \n",
    "        - solution:\n",
    "            - choose a more powerful model with more parameters\n",
    "            - feed better feature / feature engineering \n",
    "            - reduce constraints on the model / reduce the regularization hyperparameters\n",
    "<br>\n",
    "*Hyperparameter: a parameter of a learning algorithm (not of the model.) It is not affected by the learning algorithm itself and it must be set prior to training and remains constant during training.*\n",
    "    \n",
    "## Dealing with Outliers\n",
    "- clearly outlier instances: discard \n",
    "- instances with few missing features:\n",
    "    - ignore the features\n",
    "    - ignore the instances\n",
    "    - fill in the missing values (with feature median)\n",
    "    - train 1 model with the missing features and 1 without the missing features\n",
    "\n",
    "## ML - Step 1 Build Models\n",
    "- study the data & business problem\n",
    "- select a model to build\n",
    "- train model on training data (or the algorithm is searching for the model parameter values that minimize a cost function)\n",
    "- apply trained model to make predictions onnew cases (or inference)\n",
    "\n",
    "## ML - Step 2 Test & Validation\n",
    "- generalization error / out-of-sample error: the error rate of the model trained with training dataset on new cases. This error rate is estimated by evaluating the model on test dataset. \n",
    "- model selection: \n",
    "    - train models of different algorithms and compare generalization errors\n",
    "    - training different models of the same algorithm and compare generalization errors\n",
    "    - healthy conduct to get accurate generalization errors: \n",
    "        - partition a *validation set* from the training dataset for:\n",
    "            - tuning hyperparameter\n",
    "            - model selection\n",
    "            - tackle data mismatch between data on stage in training and in production\n",
    "        - cross validation\n",
    "\n",
    "## Question\n",
    "1. The book talks about that the linear model we defined for GDP and life satisfaction has 2 parameters and thus has 2 degrees of freedom. Wouldn't it be 1?"
   ]
  },
  {
   "cell_type": "markdown",
   "metadata": {},
   "source": [
    "## Life Satisfaction Example\n"
   ]
  },
  {
   "cell_type": "code",
   "execution_count": 105,
   "metadata": {},
   "outputs": [
    {
     "data": {
      "text/html": [
       "<div>\n",
       "<style scoped>\n",
       "    .dataframe tbody tr th:only-of-type {\n",
       "        vertical-align: middle;\n",
       "    }\n",
       "\n",
       "    .dataframe tbody tr th {\n",
       "        vertical-align: top;\n",
       "    }\n",
       "\n",
       "    .dataframe thead th {\n",
       "        text-align: right;\n",
       "    }\n",
       "</style>\n",
       "<table border=\"1\" class=\"dataframe\">\n",
       "  <thead>\n",
       "    <tr style=\"text-align: right;\">\n",
       "      <th></th>\n",
       "      <th>LOCATION</th>\n",
       "      <th>Country</th>\n",
       "      <th>INDICATOR</th>\n",
       "      <th>Indicator</th>\n",
       "      <th>MEASURE</th>\n",
       "      <th>Measure</th>\n",
       "      <th>INEQUALITY</th>\n",
       "      <th>Inequality</th>\n",
       "      <th>Unit Code</th>\n",
       "      <th>Unit</th>\n",
       "      <th>PowerCode Code</th>\n",
       "      <th>PowerCode</th>\n",
       "      <th>Reference Period Code</th>\n",
       "      <th>Reference Period</th>\n",
       "      <th>Value</th>\n",
       "      <th>Flag Codes</th>\n",
       "      <th>Flags</th>\n",
       "    </tr>\n",
       "  </thead>\n",
       "  <tbody>\n",
       "    <tr>\n",
       "      <th>2679</th>\n",
       "      <td>HUN</td>\n",
       "      <td>Hungary</td>\n",
       "      <td>SW_LIFS</td>\n",
       "      <td>Life satisfaction</td>\n",
       "      <td>L</td>\n",
       "      <td>Value</td>\n",
       "      <td>TOT</td>\n",
       "      <td>Total</td>\n",
       "      <td>AVSCORE</td>\n",
       "      <td>Average score</td>\n",
       "      <td>0</td>\n",
       "      <td>units</td>\n",
       "      <td>NaN</td>\n",
       "      <td>NaN</td>\n",
       "      <td>4.9</td>\n",
       "      <td>NaN</td>\n",
       "      <td>NaN</td>\n",
       "    </tr>\n",
       "  </tbody>\n",
       "</table>\n",
       "</div>"
      ],
      "text/plain": [
       "     LOCATION  Country INDICATOR          Indicator MEASURE Measure  \\\n",
       "2679      HUN  Hungary   SW_LIFS  Life satisfaction       L   Value   \n",
       "\n",
       "     INEQUALITY Inequality Unit Code           Unit  PowerCode Code PowerCode  \\\n",
       "2679        TOT      Total   AVSCORE  Average score               0     units   \n",
       "\n",
       "      Reference Period Code  Reference Period  Value Flag Codes Flags  \n",
       "2679                    NaN               NaN    4.9        NaN   NaN  "
      ]
     },
     "execution_count": 105,
     "metadata": {},
     "output_type": "execute_result"
    }
   ],
   "source": [
    "import matplotlib\n",
    "import matplotlib.pyplot as plt\n",
    "import pandas as pd\n",
    "\n",
    "oecd_df = pd.read_csv('./oecd_bli_2015.csv', thousands = ',') #textbook has thousands = ','\n",
    "oecd_df.head()\n",
    "list(oecd_df)\n",
    "oecd_df[oecd_df.Value == 4.9] #Checked, Value is the column of Lifa Satisfaction\n",
    "\n",
    "oecd_df = oecd_df[oecd_df.Indicator == 'Life satisfaction']\n",
    "oecd_df = oecd_df[oecd_df.Inequality == 'Total']\n",
    "oecd_df[oecd_df.Country == 'Hungary']"
   ]
  },
  {
   "cell_type": "code",
   "execution_count": 106,
   "metadata": {},
   "outputs": [
    {
     "data": {
      "text/html": [
       "<div>\n",
       "<style scoped>\n",
       "    .dataframe tbody tr th:only-of-type {\n",
       "        vertical-align: middle;\n",
       "    }\n",
       "\n",
       "    .dataframe tbody tr th {\n",
       "        vertical-align: top;\n",
       "    }\n",
       "\n",
       "    .dataframe thead th {\n",
       "        text-align: right;\n",
       "    }\n",
       "</style>\n",
       "<table border=\"1\" class=\"dataframe\">\n",
       "  <thead>\n",
       "    <tr style=\"text-align: right;\">\n",
       "      <th></th>\n",
       "      <th>Country</th>\n",
       "      <th>Subject Descriptor</th>\n",
       "      <th>Units</th>\n",
       "      <th>Scale</th>\n",
       "      <th>Country/Series-specific Notes</th>\n",
       "      <th>2015</th>\n",
       "      <th>Estimates Start After</th>\n",
       "    </tr>\n",
       "  </thead>\n",
       "  <tbody>\n",
       "    <tr>\n",
       "      <th>72</th>\n",
       "      <td>Hungary</td>\n",
       "      <td>Gross domestic product per capita, current prices</td>\n",
       "      <td>U.S. dollars</td>\n",
       "      <td>Units</td>\n",
       "      <td>See notes for:  Gross domestic product, curren...</td>\n",
       "      <td>12239.894</td>\n",
       "      <td>2015.0</td>\n",
       "    </tr>\n",
       "  </tbody>\n",
       "</table>\n",
       "</div>"
      ],
      "text/plain": [
       "    Country                                 Subject Descriptor         Units  \\\n",
       "72  Hungary  Gross domestic product per capita, current prices  U.S. dollars   \n",
       "\n",
       "    Scale                      Country/Series-specific Notes       2015  \\\n",
       "72  Units  See notes for:  Gross domestic product, curren...  12239.894   \n",
       "\n",
       "    Estimates Start After  \n",
       "72                 2015.0  "
      ]
     },
     "execution_count": 106,
     "metadata": {},
     "output_type": "execute_result"
    }
   ],
   "source": [
    "gdp_df = pd.read_csv('./gdp_per_capita.csv', sep='\\t', header=[0], \\\n",
    "                     thousands = ',', encoding='latin1', na_values='n/a')\n",
    "gdp_df.head()#textbook has thousands = ','\n",
    "list(gdp_df)\n",
    "gdp_df[gdp_df.Country == 'Hungary'] #Confirmed: 2015 column is the column for GDP"
   ]
  },
  {
   "cell_type": "code",
   "execution_count": 130,
   "metadata": {},
   "outputs": [
    {
     "data": {
      "text/html": [
       "<div>\n",
       "<style scoped>\n",
       "    .dataframe tbody tr th:only-of-type {\n",
       "        vertical-align: middle;\n",
       "    }\n",
       "\n",
       "    .dataframe tbody tr th {\n",
       "        vertical-align: top;\n",
       "    }\n",
       "\n",
       "    .dataframe thead th {\n",
       "        text-align: right;\n",
       "    }\n",
       "</style>\n",
       "<table border=\"1\" class=\"dataframe\">\n",
       "  <thead>\n",
       "    <tr style=\"text-align: right;\">\n",
       "      <th></th>\n",
       "      <th>Country</th>\n",
       "      <th>Life_Satisfaction</th>\n",
       "      <th>GDP</th>\n",
       "    </tr>\n",
       "  </thead>\n",
       "  <tbody>\n",
       "    <tr>\n",
       "      <th>0</th>\n",
       "      <td>Australia</td>\n",
       "      <td>7.3</td>\n",
       "      <td>50961.865</td>\n",
       "    </tr>\n",
       "    <tr>\n",
       "      <th>7</th>\n",
       "      <td>France</td>\n",
       "      <td>6.5</td>\n",
       "      <td>37675.006</td>\n",
       "    </tr>\n",
       "    <tr>\n",
       "      <th>10</th>\n",
       "      <td>Hungary</td>\n",
       "      <td>4.9</td>\n",
       "      <td>12239.894</td>\n",
       "    </tr>\n",
       "    <tr>\n",
       "      <th>15</th>\n",
       "      <td>Korea</td>\n",
       "      <td>5.8</td>\n",
       "      <td>27195.197</td>\n",
       "    </tr>\n",
       "    <tr>\n",
       "      <th>29</th>\n",
       "      <td>United States</td>\n",
       "      <td>7.2</td>\n",
       "      <td>55805.204</td>\n",
       "    </tr>\n",
       "  </tbody>\n",
       "</table>\n",
       "</div>"
      ],
      "text/plain": [
       "          Country  Life_Satisfaction        GDP\n",
       "0       Australia                7.3  50961.865\n",
       "7          France                6.5  37675.006\n",
       "10        Hungary                4.9  12239.894\n",
       "15          Korea                5.8  27195.197\n",
       "29  United States                7.2  55805.204"
      ]
     },
     "execution_count": 130,
     "metadata": {},
     "output_type": "execute_result"
    }
   ],
   "source": [
    "life_df = pd.merge(oecd_df, gdp_df, on = 'Country', how = 'left')\n",
    "life_df_vis = life_df[['Country', 'Value','2015']]\n",
    "life_df_vis.columns = ['Country', 'Life_Satisfaction','GDP']\n",
    "life_df_vis.dropna()\n",
    "life_df_vis_plot = life_df_vis[life_df_vis.Country.isin(['Hungary','Korea','France','Australia','United States'])]\n",
    "life_df_vis_plot"
   ]
  },
  {
   "cell_type": "code",
   "execution_count": 131,
   "metadata": {},
   "outputs": [],
   "source": [
    "vocabulary = list(life_df_vis_plot['GDP'])\n",
    "color = ['red'] * len(vocabulary)\n",
    "color_dict = dict(zip(vocabulary, color))\n",
    "color_dict\n",
    "GDP = list(life_df_vis['GDP'])\n",
    "lifeSatisfaction = list(life_df_vis['Life_Satisfaction'])"
   ]
  },
  {
   "cell_type": "code",
   "execution_count": 132,
   "metadata": {},
   "outputs": [
    {
     "data": {
      "image/png": "[encoded data removed]",
      "text/plain": [
       "<Figure size 432x288 with 1 Axes>"
      ]
     },
     "metadata": {
      "needs_background": "light"
     },
     "output_type": "display_data"
    }
   ],
   "source": [
    "life_df_vis.plot(kind='scatter',x='GDP', y='Life_Satisfaction')\n",
    "plt.show()"
   ]
  },
  {
   "cell_type": "code",
   "execution_count": 133,
   "metadata": {},
   "outputs": [
    {
     "ename": "ValueError",
     "evalue": "Input contains NaN, infinity or a value too large for dtype('float64').",
     "output_type": "error",
     "traceback": [
      "\u001b[0;31m---------------------------------------------------------------------------\u001b[0m",
      "\u001b[0;31mValueError\u001b[0m                                Traceback (most recent call last)",
      "\u001b[0;32m<ipython-input-133-ea244b92b978>\u001b[0m in \u001b[0;36m<module>\u001b[0;34m\u001b[0m\n\u001b[1;32m      3\u001b[0m \u001b[0mY\u001b[0m \u001b[0;34m=\u001b[0m \u001b[0mnp\u001b[0m\u001b[0;34m.\u001b[0m\u001b[0mc_\u001b[0m\u001b[0;34m[\u001b[0m\u001b[0mlife_df_vis\u001b[0m\u001b[0;34m[\u001b[0m\u001b[0;34m'Life_Satisfaction'\u001b[0m\u001b[0;34m]\u001b[0m\u001b[0;34m]\u001b[0m\u001b[0;34m\u001b[0m\u001b[0;34m\u001b[0m\u001b[0m\n\u001b[1;32m      4\u001b[0m \u001b[0mlinear\u001b[0m \u001b[0;34m=\u001b[0m \u001b[0msklearn\u001b[0m\u001b[0;34m.\u001b[0m\u001b[0mlinear_model\u001b[0m\u001b[0;34m.\u001b[0m\u001b[0mLinearRegression\u001b[0m\u001b[0;34m(\u001b[0m\u001b[0;34m)\u001b[0m\u001b[0;34m\u001b[0m\u001b[0;34m\u001b[0m\u001b[0m\n\u001b[0;32m----> 5\u001b[0;31m \u001b[0mlinear\u001b[0m\u001b[0;34m.\u001b[0m\u001b[0mfit\u001b[0m\u001b[0;34m(\u001b[0m\u001b[0mX\u001b[0m\u001b[0;34m,\u001b[0m\u001b[0mY\u001b[0m\u001b[0;34m)\u001b[0m\u001b[0;34m\u001b[0m\u001b[0;34m\u001b[0m\u001b[0m\n\u001b[0m",
      "\u001b[0;32m~/anaconda3/lib/python3.7/site-packages/sklearn/linear_model/base.py\u001b[0m in \u001b[0;36mfit\u001b[0;34m(self, X, y, sample_weight)\u001b[0m\n\u001b[1;32m    456\u001b[0m         \u001b[0mn_jobs_\u001b[0m \u001b[0;34m=\u001b[0m \u001b[0mself\u001b[0m\u001b[0;34m.\u001b[0m\u001b[0mn_jobs\u001b[0m\u001b[0;34m\u001b[0m\u001b[0;34m\u001b[0m\u001b[0m\n\u001b[1;32m    457\u001b[0m         X, y = check_X_y(X, y, accept_sparse=['csr', 'csc', 'coo'],\n\u001b[0;32m--> 458\u001b[0;31m                          y_numeric=True, multi_output=True)\n\u001b[0m\u001b[1;32m    459\u001b[0m \u001b[0;34m\u001b[0m\u001b[0m\n\u001b[1;32m    460\u001b[0m         \u001b[0;32mif\u001b[0m \u001b[0msample_weight\u001b[0m \u001b[0;32mis\u001b[0m \u001b[0;32mnot\u001b[0m \u001b[0;32mNone\u001b[0m \u001b[0;32mand\u001b[0m \u001b[0mnp\u001b[0m\u001b[0;34m.\u001b[0m\u001b[0matleast_1d\u001b[0m\u001b[0;34m(\u001b[0m\u001b[0msample_weight\u001b[0m\u001b[0;34m)\u001b[0m\u001b[0;34m.\u001b[0m\u001b[0mndim\u001b[0m \u001b[0;34m>\u001b[0m \u001b[0;36m1\u001b[0m\u001b[0;34m:\u001b[0m\u001b[0;34m\u001b[0m\u001b[0;34m\u001b[0m\u001b[0m\n",
      "\u001b[0;32m~/anaconda3/lib/python3.7/site-packages/sklearn/utils/validation.py\u001b[0m in \u001b[0;36mcheck_X_y\u001b[0;34m(X, y, accept_sparse, accept_large_sparse, dtype, order, copy, force_all_finite, ensure_2d, allow_nd, multi_output, ensure_min_samples, ensure_min_features, y_numeric, warn_on_dtype, estimator)\u001b[0m\n\u001b[1;32m    754\u001b[0m                     \u001b[0mensure_min_features\u001b[0m\u001b[0;34m=\u001b[0m\u001b[0mensure_min_features\u001b[0m\u001b[0;34m,\u001b[0m\u001b[0;34m\u001b[0m\u001b[0;34m\u001b[0m\u001b[0m\n\u001b[1;32m    755\u001b[0m                     \u001b[0mwarn_on_dtype\u001b[0m\u001b[0;34m=\u001b[0m\u001b[0mwarn_on_dtype\u001b[0m\u001b[0;34m,\u001b[0m\u001b[0;34m\u001b[0m\u001b[0;34m\u001b[0m\u001b[0m\n\u001b[0;32m--> 756\u001b[0;31m                     estimator=estimator)\n\u001b[0m\u001b[1;32m    757\u001b[0m     \u001b[0;32mif\u001b[0m \u001b[0mmulti_output\u001b[0m\u001b[0;34m:\u001b[0m\u001b[0;34m\u001b[0m\u001b[0;34m\u001b[0m\u001b[0m\n\u001b[1;32m    758\u001b[0m         y = check_array(y, 'csr', force_all_finite=True, ensure_2d=False,\n",
      "\u001b[0;32m~/anaconda3/lib/python3.7/site-packages/sklearn/utils/validation.py\u001b[0m in \u001b[0;36mcheck_array\u001b[0;34m(array, accept_sparse, accept_large_sparse, dtype, order, copy, force_all_finite, ensure_2d, allow_nd, ensure_min_samples, ensure_min_features, warn_on_dtype, estimator)\u001b[0m\n\u001b[1;32m    571\u001b[0m         \u001b[0;32mif\u001b[0m \u001b[0mforce_all_finite\u001b[0m\u001b[0;34m:\u001b[0m\u001b[0;34m\u001b[0m\u001b[0;34m\u001b[0m\u001b[0m\n\u001b[1;32m    572\u001b[0m             _assert_all_finite(array,\n\u001b[0;32m--> 573\u001b[0;31m                                allow_nan=force_all_finite == 'allow-nan')\n\u001b[0m\u001b[1;32m    574\u001b[0m \u001b[0;34m\u001b[0m\u001b[0m\n\u001b[1;32m    575\u001b[0m     \u001b[0mshape_repr\u001b[0m \u001b[0;34m=\u001b[0m \u001b[0m_shape_repr\u001b[0m\u001b[0;34m(\u001b[0m\u001b[0marray\u001b[0m\u001b[0;34m.\u001b[0m\u001b[0mshape\u001b[0m\u001b[0;34m)\u001b[0m\u001b[0;34m\u001b[0m\u001b[0;34m\u001b[0m\u001b[0m\n",
      "\u001b[0;32m~/anaconda3/lib/python3.7/site-packages/sklearn/utils/validation.py\u001b[0m in \u001b[0;36m_assert_all_finite\u001b[0;34m(X, allow_nan)\u001b[0m\n\u001b[1;32m     54\u001b[0m                 not allow_nan and not np.isfinite(X).all()):\n\u001b[1;32m     55\u001b[0m             \u001b[0mtype_err\u001b[0m \u001b[0;34m=\u001b[0m \u001b[0;34m'infinity'\u001b[0m \u001b[0;32mif\u001b[0m \u001b[0mallow_nan\u001b[0m \u001b[0;32melse\u001b[0m \u001b[0;34m'NaN, infinity'\u001b[0m\u001b[0;34m\u001b[0m\u001b[0;34m\u001b[0m\u001b[0m\n\u001b[0;32m---> 56\u001b[0;31m             \u001b[0;32mraise\u001b[0m \u001b[0mValueError\u001b[0m\u001b[0;34m(\u001b[0m\u001b[0mmsg_err\u001b[0m\u001b[0;34m.\u001b[0m\u001b[0mformat\u001b[0m\u001b[0;34m(\u001b[0m\u001b[0mtype_err\u001b[0m\u001b[0;34m,\u001b[0m \u001b[0mX\u001b[0m\u001b[0;34m.\u001b[0m\u001b[0mdtype\u001b[0m\u001b[0;34m)\u001b[0m\u001b[0;34m)\u001b[0m\u001b[0;34m\u001b[0m\u001b[0;34m\u001b[0m\u001b[0m\n\u001b[0m\u001b[1;32m     57\u001b[0m \u001b[0;34m\u001b[0m\u001b[0m\n\u001b[1;32m     58\u001b[0m \u001b[0;34m\u001b[0m\u001b[0m\n",
      "\u001b[0;31mValueError\u001b[0m: Input contains NaN, infinity or a value too large for dtype('float64')."
     ]
    }
   ],
   "source": [
    "import sklearn.linear_model\n",
    "X = np.c_[life_df_vis['GDP']]\n",
    "Y = np.c_[life_df_vis['Life_Satisfaction']]\n",
    "linear = sklearn.linear_model.LinearRegression()\n",
    "linear.fit(X,Y)"
   ]
  },
  {
   "cell_type": "code",
   "execution_count": 126,
   "metadata": {},
   "outputs": [
    {
     "data": {
      "text/plain": [
       "<matplotlib.collections.PathCollection at 0xa215870f0>"
      ]
     },
     "execution_count": 126,
     "metadata": {},
     "output_type": "execute_result"
    },
    {
     "data": {
      "image/png": "[encoded data removed]",
      "text/plain": [
       "<Figure size 432x288 with 1 Axes>"
      ]
     },
     "metadata": {
      "needs_background": "light"
     },
     "output_type": "display_data"
    }
   ],
   "source": [
    "axes = plt.gca()\n",
    "axes.set_xlim([0,60000])\n",
    "axes.set_ylim([0,10])\n",
    "plt.scatter(GDP, lifeSatisfaction) #how to highlight a point in matplotlib scatter plot"
   ]
  }
 ],
 "metadata": {
  "kernelspec": {
   "display_name": "Python 3",
   "language": "python",
   "name": "python3"
  },
  "language_info": {
   "codemirror_mode": {
    "name": "ipython",
    "version": 3
   },
   "file_extension": ".py",
   "mimetype": "text/x-python",
   "name": "python",
   "nbconvert_exporter": "python",
   "pygments_lexer": "ipython3",
   "version": "3.7.3"
  }
 },
 "nbformat": 4,
 "nbformat_minor": 2
}
